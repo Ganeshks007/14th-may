{
 "cells": [
  {
   "cell_type": "code",
   "execution_count": 1,
   "id": "0a1032fd",
   "metadata": {},
   "outputs": [],
   "source": [
    "s=\"this is My First programming class and i am learNING phython string and its function\""
   ]
  },
  {
   "cell_type": "markdown",
   "id": "ad091e44",
   "metadata": {},
   "source": [
    "# Question 1. Try to extract data from index 1 to index 300 with a jump of 3\n"
   ]
  },
  {
   "cell_type": "code",
   "execution_count": 3,
   "id": "50e417a2",
   "metadata": {},
   "outputs": [
    {
     "data": {
      "text/plain": [
       "'h   r oai a d  aI yosi dtfco'"
      ]
     },
     "execution_count": 3,
     "metadata": {},
     "output_type": "execute_result"
    }
   ],
   "source": [
    "s[1:300:3]"
   ]
  },
  {
   "cell_type": "markdown",
   "id": "1245b72b",
   "metadata": {},
   "source": [
    "# Question 2. Try to reverse a string without using reverse function"
   ]
  },
  {
   "cell_type": "code",
   "execution_count": 8,
   "id": "d5801474",
   "metadata": {},
   "outputs": [
    {
     "data": {
      "text/plain": [
       "'this is My First programming class and i am learNING phython string and its function'"
      ]
     },
     "execution_count": 8,
     "metadata": {},
     "output_type": "execute_result"
    }
   ],
   "source": [
    "s"
   ]
  },
  {
   "cell_type": "code",
   "execution_count": 19,
   "id": "b5ff1b47",
   "metadata": {},
   "outputs": [
    {
     "data": {
      "text/plain": [
       "'noitcnuf sti dna gnirts nohtyhp GNINrael ma i dna ssalc gnimmargorp tsriF yM si siht'"
      ]
     },
     "execution_count": 19,
     "metadata": {},
     "output_type": "execute_result"
    }
   ],
   "source": [
    "s[::-1]"
   ]
  },
  {
   "cell_type": "markdown",
   "id": "5fa08b9c",
   "metadata": {},
   "source": [
    "# Question 3. Try to split a string after conversion of entire string in uppercase "
   ]
  },
  {
   "cell_type": "code",
   "execution_count": 21,
   "id": "659180e0",
   "metadata": {},
   "outputs": [
    {
     "data": {
      "text/plain": [
       "'this is My First programming class and i am learNING phython string and its function'"
      ]
     },
     "execution_count": 21,
     "metadata": {},
     "output_type": "execute_result"
    }
   ],
   "source": [
    "s"
   ]
  },
  {
   "cell_type": "code",
   "execution_count": 26,
   "id": "df51137c",
   "metadata": {},
   "outputs": [],
   "source": [
    "s=s.upper()"
   ]
  },
  {
   "cell_type": "code",
   "execution_count": 27,
   "id": "7673f6c9",
   "metadata": {},
   "outputs": [
    {
     "data": {
      "text/plain": [
       "'THIS IS MY FIRST PROGRAMMING CLASS AND I AM LEARNING PHYTHON STRING AND ITS FUNCTION'"
      ]
     },
     "execution_count": 27,
     "metadata": {},
     "output_type": "execute_result"
    }
   ],
   "source": [
    "s"
   ]
  },
  {
   "cell_type": "code",
   "execution_count": 28,
   "id": "20f701c3",
   "metadata": {},
   "outputs": [
    {
     "data": {
      "text/plain": [
       "['THIS',\n",
       " 'IS',\n",
       " 'MY',\n",
       " 'FIRST',\n",
       " 'PROGRAMMING',\n",
       " 'CLASS',\n",
       " 'AND',\n",
       " 'I',\n",
       " 'AM',\n",
       " 'LEARNING',\n",
       " 'PHYTHON',\n",
       " 'STRING',\n",
       " 'AND',\n",
       " 'ITS',\n",
       " 'FUNCTION']"
      ]
     },
     "execution_count": 28,
     "metadata": {},
     "output_type": "execute_result"
    }
   ],
   "source": [
    "s.split()"
   ]
  },
  {
   "cell_type": "markdown",
   "id": "6a6d96e6",
   "metadata": {},
   "source": [
    "# Question 4. Try to convert the whole string in Lower case"
   ]
  },
  {
   "cell_type": "code",
   "execution_count": 29,
   "id": "3d8c262c",
   "metadata": {},
   "outputs": [
    {
     "data": {
      "text/plain": [
       "'THIS IS MY FIRST PROGRAMMING CLASS AND I AM LEARNING PHYTHON STRING AND ITS FUNCTION'"
      ]
     },
     "execution_count": 29,
     "metadata": {},
     "output_type": "execute_result"
    }
   ],
   "source": [
    "s"
   ]
  },
  {
   "cell_type": "code",
   "execution_count": 30,
   "id": "b84b257f",
   "metadata": {},
   "outputs": [
    {
     "data": {
      "text/plain": [
       "'this is my first programming class and i am learning phython string and its function'"
      ]
     },
     "execution_count": 30,
     "metadata": {},
     "output_type": "execute_result"
    }
   ],
   "source": [
    "s.lower()"
   ]
  },
  {
   "cell_type": "markdown",
   "id": "f9897088",
   "metadata": {},
   "source": [
    "# Question 5. Try to capitilize the whole string"
   ]
  },
  {
   "cell_type": "code",
   "execution_count": 31,
   "id": "5b1fda44",
   "metadata": {},
   "outputs": [
    {
     "data": {
      "text/plain": [
       "'This is my first programming class and i am learning phython string and its function'"
      ]
     },
     "execution_count": 31,
     "metadata": {},
     "output_type": "execute_result"
    }
   ],
   "source": [
    "s.capitalize()"
   ]
  },
  {
   "cell_type": "markdown",
   "id": "348fb964",
   "metadata": {},
   "source": [
    "# Question 6. Write a difference between isalnum() and isalpha()"
   ]
  },
  {
   "cell_type": "code",
   "execution_count": null,
   "id": "f07da3c0",
   "metadata": {},
   "outputs": [],
   "source": [
    "isalnum() function gives output True if all the characters are numbers(0-9) and alphabet letter(a-z)\n",
    "isalpha() function gives output True if all the characters are only alphabet letter(a-z)"
   ]
  },
  {
   "cell_type": "markdown",
   "id": "b73add03",
   "metadata": {},
   "source": [
    "# Question 7. Try to give an example of expand tab\n"
   ]
  },
  {
   "cell_type": "code",
   "execution_count": 32,
   "id": "38b816de",
   "metadata": {},
   "outputs": [],
   "source": [
    "g=\"G\\ta\\tn\\te\\ts\\th\""
   ]
  },
  {
   "cell_type": "code",
   "execution_count": 34,
   "id": "8d050643",
   "metadata": {},
   "outputs": [
    {
     "name": "stdout",
     "output_type": "stream",
     "text": [
      "G       a       n       e       s       h\n"
     ]
    }
   ],
   "source": [
    "print(g.expandtabs())"
   ]
  },
  {
   "cell_type": "code",
   "execution_count": 35,
   "id": "d71bccd5",
   "metadata": {},
   "outputs": [
    {
     "name": "stdout",
     "output_type": "stream",
     "text": [
      "G a n e s h\n"
     ]
    }
   ],
   "source": [
    "print(g.expandtabs(1))"
   ]
  },
  {
   "cell_type": "code",
   "execution_count": 36,
   "id": "4cb47683",
   "metadata": {},
   "outputs": [
    {
     "name": "stdout",
     "output_type": "stream",
     "text": [
      "G a n e s h\n"
     ]
    }
   ],
   "source": [
    "print(g.expandtabs(2))"
   ]
  },
  {
   "cell_type": "code",
   "execution_count": 37,
   "id": "accc59fa",
   "metadata": {},
   "outputs": [
    {
     "name": "stdout",
     "output_type": "stream",
     "text": [
      "G  a  n  e  s  h\n"
     ]
    }
   ],
   "source": [
    "print(g.expandtabs(3))"
   ]
  },
  {
   "cell_type": "code",
   "execution_count": 38,
   "id": "55a4f778",
   "metadata": {},
   "outputs": [
    {
     "name": "stdout",
     "output_type": "stream",
     "text": [
      "G     a     n     e     s     h\n"
     ]
    }
   ],
   "source": [
    "print(g.expandtabs(6))"
   ]
  },
  {
   "cell_type": "code",
   "execution_count": 39,
   "id": "8b7955e0",
   "metadata": {},
   "outputs": [
    {
     "name": "stdout",
     "output_type": "stream",
     "text": [
      "Ganesh\n"
     ]
    }
   ],
   "source": [
    "print(g.expandtabs(0))"
   ]
  },
  {
   "cell_type": "markdown",
   "id": "963f3cfe",
   "metadata": {},
   "source": [
    "# Question 8. Give an example of strip, lstrip & rstrip\n"
   ]
  },
  {
   "cell_type": "code",
   "execution_count": 42,
   "id": "b77b82ad",
   "metadata": {},
   "outputs": [],
   "source": [
    "g='   Ganesh   '"
   ]
  },
  {
   "cell_type": "code",
   "execution_count": 43,
   "id": "ea1758b3",
   "metadata": {},
   "outputs": [
    {
     "data": {
      "text/plain": [
       "'Ganesh'"
      ]
     },
     "execution_count": 43,
     "metadata": {},
     "output_type": "execute_result"
    }
   ],
   "source": [
    "g.strip()"
   ]
  },
  {
   "cell_type": "code",
   "execution_count": 44,
   "id": "40ef20c8",
   "metadata": {},
   "outputs": [],
   "source": [
    "g= '   GAn esh  '"
   ]
  },
  {
   "cell_type": "code",
   "execution_count": 45,
   "id": "603f2c00",
   "metadata": {},
   "outputs": [
    {
     "data": {
      "text/plain": [
       "'GAn esh'"
      ]
     },
     "execution_count": 45,
     "metadata": {},
     "output_type": "execute_result"
    }
   ],
   "source": [
    "g.strip()"
   ]
  },
  {
   "cell_type": "code",
   "execution_count": 46,
   "id": "6afa32e4",
   "metadata": {},
   "outputs": [
    {
     "data": {
      "text/plain": [
       "'GAn esh  '"
      ]
     },
     "execution_count": 46,
     "metadata": {},
     "output_type": "execute_result"
    }
   ],
   "source": [
    "g.lstrip()"
   ]
  },
  {
   "cell_type": "code",
   "execution_count": 47,
   "id": "30fb2bc3",
   "metadata": {},
   "outputs": [
    {
     "data": {
      "text/plain": [
       "'   GAn esh'"
      ]
     },
     "execution_count": 47,
     "metadata": {},
     "output_type": "execute_result"
    }
   ],
   "source": [
    "g.rstrip()"
   ]
  },
  {
   "cell_type": "markdown",
   "id": "d617b3b1",
   "metadata": {},
   "source": [
    "# Question 9. Replace a string character by another character taking an own example"
   ]
  },
  {
   "cell_type": "code",
   "execution_count": 48,
   "id": "462a0c72",
   "metadata": {},
   "outputs": [],
   "source": [
    "string=\"this is my normal phython class\""
   ]
  },
  {
   "cell_type": "code",
   "execution_count": 50,
   "id": "51e0b54f",
   "metadata": {},
   "outputs": [
    {
     "data": {
      "text/plain": [
       "'this is my superb phython class'"
      ]
     },
     "execution_count": 50,
     "metadata": {},
     "output_type": "execute_result"
    }
   ],
   "source": [
    "string.replace(\"normal\" ,\"superb\")"
   ]
  },
  {
   "cell_type": "markdown",
   "id": "68323b06",
   "metadata": {},
   "source": [
    "# Question 10.Try to give an definition of string center function with an example"
   ]
  },
  {
   "cell_type": "code",
   "execution_count": null,
   "id": "03e7afdb",
   "metadata": {},
   "outputs": [],
   "source": [
    "The center() gives center align the string, using a specified character."
   ]
  },
  {
   "cell_type": "code",
   "execution_count": 52,
   "id": "fb5bac1a",
   "metadata": {},
   "outputs": [],
   "source": [
    "G=\"Batsman\""
   ]
  },
  {
   "cell_type": "code",
   "execution_count": 65,
   "id": "32ca56b5",
   "metadata": {},
   "outputs": [
    {
     "data": {
      "text/plain": [
       "'$$$$$$Batsman$$$$$$$'"
      ]
     },
     "execution_count": 65,
     "metadata": {},
     "output_type": "execute_result"
    }
   ],
   "source": [
    "G.center(20,'$')"
   ]
  },
  {
   "cell_type": "markdown",
   "id": "c2e1b2fc",
   "metadata": {},
   "source": [
    "# Question 11.write your own definition of compiler and interpretor"
   ]
  },
  {
   "cell_type": "code",
   "execution_count": null,
   "id": "89f24a00",
   "metadata": {},
   "outputs": [],
   "source": [
    "Compiler scans and converts the user entire source code to a machine code in a single run\n"
   ]
  },
  {
   "cell_type": "code",
   "execution_count": null,
   "id": "c626eac9",
   "metadata": {},
   "outputs": [],
   "source": [
    "interpretor scans each single line in a time and converts to machine code."
   ]
  },
  {
   "cell_type": "markdown",
   "id": "e80e0454",
   "metadata": {},
   "source": [
    "# Question 12.Phython is a interpreted of compiled language give a clear ans with your understanding   "
   ]
  },
  {
   "cell_type": "code",
   "execution_count": null,
   "id": "b87e9874",
   "metadata": {},
   "outputs": [],
   "source": [
    "No Phython is an interpretor that it scans and executes each line of code 1 by 1 and not an entire lines of code that compiler lists all the errors of code at atime"
   ]
  },
  {
   "cell_type": "markdown",
   "id": "a775a626",
   "metadata": {},
   "source": [
    "# Question 13.Try to write a usecase of phython with your understanding."
   ]
  },
  {
   "cell_type": "code",
   "execution_count": null,
   "id": "92054ecb",
   "metadata": {},
   "outputs": [],
   "source": [
    "Data Analysis, AI & ML, Web development and applications, Gaming applications Platform"
   ]
  },
  {
   "cell_type": "code",
   "execution_count": null,
   "id": "0637a2b9",
   "metadata": {},
   "outputs": [],
   "source": []
  }
 ],
 "metadata": {
  "kernelspec": {
   "display_name": "Python 3 (ipykernel)",
   "language": "python",
   "name": "python3"
  },
  "language_info": {
   "codemirror_mode": {
    "name": "ipython",
    "version": 3
   },
   "file_extension": ".py",
   "mimetype": "text/x-python",
   "name": "python",
   "nbconvert_exporter": "python",
   "pygments_lexer": "ipython3",
   "version": "3.9.12"
  }
 },
 "nbformat": 4,
 "nbformat_minor": 5
}
